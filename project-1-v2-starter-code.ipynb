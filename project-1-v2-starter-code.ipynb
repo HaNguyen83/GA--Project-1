{
 "cells": [
  {
   "cell_type": "markdown",
   "metadata": {},
   "source": [
    "<img src=\"http://imgur.com/1ZcRyrc.png\" style=\"float: left; margin: 15px; height: 80px\">\n",
    "\n",
    "# Project 1\n",
    "\n",
    "### Building \"Pokemon Stay\"\n",
    "\n",
    "---\n",
    "You are an analyst at a \"scrappy\" online gaming company that specializes in remakes of last year's fads.\n",
    "\n",
    "Your boss, who runs the product development team, is convinced that Pokemon Go's fatal flaw was that you had to actually move around outside. She has design mock-ups for a new game called Pokemon Stay: in this version players still need to move, but just from website to website. Pokemon gyms are now popular online destinations, and catching Pokemon in the \"wild\" simply requires browsing the internet for hours in the comfort of your home.\n",
    "\n",
    "She wants you to program a prototype version of the game, and analyze the planned content to help the team calibrate the design."
   ]
  },
  {
   "cell_type": "markdown",
   "metadata": {},
   "source": [
    "#### Package imports\n",
    "\n",
    "The pprint package below is the only package imported here, and it's not even strictly required to do any of the project. Printing python variables and objects with pprint can help to format them in a \"prettier\" way."
   ]
  },
  {
   "cell_type": "code",
   "execution_count": 2,
   "metadata": {
    "collapsed": true
   },
   "outputs": [],
   "source": [
    "from pprint import pprint"
   ]
  },
  {
   "cell_type": "markdown",
   "metadata": {},
   "source": [
    "\n",
    "\n",
    "## 1. Defining a player\n",
    "\n",
    "---\n",
    "\n",
    "The player variables are:\n",
    "\n",
    "    player_id : id code unique to each player (integer)\n",
    "    player_name : entered name of the player (string)\n",
    "    time_played : number of time played the game in minutes (float)\n",
    "    player_pokemon: the player's captured pokemon (dictionary)\n",
    "    gyms_visited: ids of the gyms that a player has visited (list)\n",
    "    \n",
    "Create the components for a player object by defining each of these variables. The dictionary and list variables should just be defined as empty; you can use any (correctly typed) values for the others."
   ]
  },
  {
   "cell_type": "code",
   "execution_count": 3,
   "metadata": {
    "collapsed": true
   },
   "outputs": [],
   "source": [
    "player_id = 1\n",
    "#print(type(player_id))\n",
    "player_name = 'John'\n",
    "#print(type(player_name))\n",
    "time_played = 0.0\n",
    "#print(type(time_played))\n",
    "player_pokemon = {}\n",
    "gym_visited = []\n",
    "#print(type(player_pokemon))\n",
    "#print(type(gym_visited))"
   ]
  },
  {
   "cell_type": "markdown",
   "metadata": {},
   "source": [
    "\n",
    "\n",
    "## 2. Defining \"gym\" locations\n",
    "\n",
    "---\n",
    "\n",
    "As the sole programmer, Pokemon Stay will have to start small. To begin, there will be 10 different gym location websites on the internet. The gym locations are:\n",
    "\n",
    "    1. 'reddit.com'\n",
    "    2. 'amazon.com'\n",
    "    3. 'twitter.com'\n",
    "    4. 'linkedin.com'\n",
    "    5. 'ebay.com'\n",
    "    6. 'netflix.com'\n",
    "    7. 'amazon.com'\n",
    "    8. 'stackoverflow.com'\n",
    "    9. 'github.com'\n",
    "    10. 'quora.com'\n",
    "\n",
    "1. Set up a list of all the gym locations. This will be a list of strings.\n",
    "2. Append two of these locations to your player's list of visited gyms.\n",
    "3. Print the list."
   ]
  },
  {
   "cell_type": "code",
   "execution_count": 4,
   "metadata": {},
   "outputs": [
    {
     "name": "stdout",
     "output_type": "stream",
     "text": [
      "['reddit.com', 'amazon.com']\n"
     ]
    }
   ],
   "source": [
    "pokemon_gyms = ['reddit.com', 'amazon.com','twitter.com','linkedin.com','ebay.com','netflix.com','amazon.com','stackoverflow.com','github.com','quora.com']\n",
    "gym_visited.append('reddit.com')\n",
    "gym_visited.append('amazon.com')                   \n",
    "print(gym_visited)"
   ]
  },
  {
   "cell_type": "markdown",
   "metadata": {},
   "source": [
    "\n",
    "\n",
    "## 3. Create a pokedex\n",
    "\n",
    "---\n",
    "\n",
    "We also need to create some pokemon to catch. Each pokemon will be defined by these variables:\n",
    "\n",
    "    pokemon_id : unique identifier for each pokemon (integer)\n",
    "    name : the name of the pokemon (string)\n",
    "    type : the category of pokemon (string)\n",
    "    hp : base hitpoints (integer)\n",
    "    attack : base attack (integer)\n",
    "    defense : base defense (integer)\n",
    "    special_attack : base special attack (integer)\n",
    "    special_defense : base sepecial defense (integer)\n",
    "    speed : base speed (integer)\n",
    "\n",
    "We are only going to create 3 different pokemon with these `pokemon_id` and `pokemon_name` values:\n",
    "\n",
    "    1 : 'charmander'\n",
    "    2 : 'squirtle'\n",
    "    3 : 'bulbasaur'\n",
    "\n",
    "Create a dictionary that will contain the pokemon. The keys of the dictionary will be the `pokemon_id` and the values will themselves dictionaries that contain the other pokemon variables. The structure of the pokedex dictionary will start like so:\n",
    "     \n",
    "     {\n",
    "         1: {\n",
    "                 'name':'charmander',\n",
    "                 'type':'fire',\n",
    "                 ...\n",
    "                 \n",
    "The `type` of charmander, squirtle, and bulbasaur should be `'fire'`, `'water'`, and `'poison'` respectively. The other values are up to you, make them anything you like!\n",
    "\n",
    "Print (or pretty print) the pokedex dictionary with the 3 pokemon."
   ]
  },
  {
   "cell_type": "code",
   "execution_count": 5,
   "metadata": {},
   "outputs": [
    {
     "name": "stdout",
     "output_type": "stream",
     "text": [
      "{1: {'name': 'charmander', 'type': 'fire', 'hp': 15, 'attack': 4, 'defense': 5, 'special_attack': 6, 'special_defense': 7, 'speed': 35}, 2: {'name': 'squirtle', 'type': 'water', 'hp': 25, 'attack': 12, 'defense': 7, 'special_attack': 20, 'special_defense': 9, 'speed': 55}, 3: {'name': 'bulbasaur', 'type': 'poison', 'hp': 35, 'attack': 19, 'defense': 3, 'special_attack': 25, 'special_defense': 5, 'speed': 60}}\n"
     ]
    }
   ],
   "source": [
    "pokedex = {1:{'name': 'charmander',\n",
    "               'type': 'fire',\n",
    "               'hp': 15,\n",
    "               'attack': 4,\n",
    "               'defense': 5,\n",
    "               'special_attack': 6,\n",
    "               'special_defense': 7,\n",
    "               'speed': 35},\n",
    "           2:{'name': 'squirtle',\n",
    "              'type': 'water',\n",
    "              'hp': 25,\n",
    "              'attack': 12,\n",
    "              'defense': 7,\n",
    "              'special_attack': 20,\n",
    "              'special_defense': 9,\n",
    "              'speed': 55},\n",
    "          3:{'name': 'bulbasaur',\n",
    "              'type': 'poison',\n",
    "              'hp': 35,\n",
    "              'attack': 19,\n",
    "              'defense': 3,\n",
    "              'special_attack': 25,\n",
    "              'special_defense': 5,\n",
    "              'speed': 60}}\n",
    "print(pokedex)"
   ]
  },
  {
   "cell_type": "markdown",
   "metadata": {},
   "source": [
    "\n",
    "\n",
    "## 4. Create a data structure for players\n",
    "\n",
    "---\n",
    "\n",
    "### 4.1 \n",
    "\n",
    "In order to maintain a database of multiple players, create a dictionary that keeps track of players indexed by `player_id`. \n",
    "\n",
    "The keys of the dictionary will be `player_id` and values will be dictionaries containing each player's variables (from question 1). \n",
    "\n",
    "Construct the `players` dictionary and insert the player that you defined in question 1, then print `players`."
   ]
  },
  {
   "cell_type": "code",
   "execution_count": 7,
   "metadata": {},
   "outputs": [
    {
     "name": "stdout",
     "output_type": "stream",
     "text": [
      "{1: {'player_name': 'John', 'time_played': 0.0, 'player_pokemon': {}, 'gym_visited': ['reddit.com', 'amazon.com']}}\n"
     ]
    }
   ],
   "source": [
    "players = {}\n",
    "players[player_id] = {'player_name': player_name,\n",
    "                      'time_played': time_played,\n",
    "                      'player_pokemon': player_pokemon,\n",
    "                      'gym_visited': gym_visited}\n",
    "           \n",
    "print(players)"
   ]
  },
  {
   "cell_type": "markdown",
   "metadata": {},
   "source": [
    "---\n",
    "\n",
    "### 4.2\n",
    "\n",
    "Create a new player with `player_id = 2` in the `players` dictionary. Leave the `'player_pokemon'` dictionary empty. Append `'alcatraz'` and `'pacific_beach'` to the `'gyms_visited'` list for player 2.\n",
    "\n",
    "The `'player_name'` and `'time_played'` values are up to you, but must be a string and float, respectively.\n",
    "\n",
    "Remember, the player_id is the key for the player in the players dictionary.\n",
    "\n",
    "Print the `players` dictionary with the new player inserted."
   ]
  },
  {
   "cell_type": "code",
   "execution_count": 8,
   "metadata": {
    "collapsed": true
   },
   "outputs": [],
   "source": [
    "player_id = 2\n",
    "players[player_id] = {'player_name': 'Peter',\n",
    "                      'time_played': 5.1,\n",
    "                      'player_pokemon': {},\n",
    "                      'gym_visited': []}\n",
    "# then we append later by the next commands:\n",
    "\n",
    "# OR we can append the 'alcatraz' and 'pacific_beach' to the 'gyms_visited' list for player 2 when we create the player 2 as follow:\n",
    "# players[player_id] = {'player_name': 'Peter',\n",
    "#               'time_played': 5.1,\n",
    "#               'player_pokemon': {},\n",
    "#               'gym_visited': ['alcatraz', 'pacific_beach']}"
   ]
  },
  {
   "cell_type": "code",
   "execution_count": 9,
   "metadata": {},
   "outputs": [
    {
     "name": "stdout",
     "output_type": "stream",
     "text": [
      "['alcatraz']\n"
     ]
    }
   ],
   "source": [
    "players[2]['gym_visited'].append('alcatraz')\n",
    "print(players[2]['gym_visited'])"
   ]
  },
  {
   "cell_type": "code",
   "execution_count": 10,
   "metadata": {},
   "outputs": [
    {
     "name": "stdout",
     "output_type": "stream",
     "text": [
      "['alcatraz', 'pacific_beach']\n"
     ]
    }
   ],
   "source": [
    "players[2]['gym_visited'].append('pacific_beach')\n",
    "print(players[2]['gym_visited'])"
   ]
  },
  {
   "cell_type": "markdown",
   "metadata": {},
   "source": [
    "\n",
    "\n",
    "## 5. Add captured pokemon for each player\n",
    "\n",
    "---\n",
    "\n",
    "The `'player_pokemon'` keyed dictionaries for each player keep track of which of the pokemon each player has.\n",
    "\n",
    "The keys of the `'player_pokemon'` dictionaries are the pokemon ids that correspond to the ids in the `pokedex` dictionary you created earlier. The values are integers specifying the stats for the pokemon.\n",
    "\n",
    "Give player 1 a squirtle. Give player 2 charmander and a bulbasaur.\n",
    "\n",
    "Print the players dictionary after adding the pokemon for each player.\n"
   ]
  },
  {
   "cell_type": "code",
   "execution_count": 16,
   "metadata": {},
   "outputs": [
    {
     "name": "stdout",
     "output_type": "stream",
     "text": [
      "{'player_name': 'John', 'time_played': 0.0, 'player_pokemon': {2: {'hp': 25, 'attack': 12, 'defense': 7, 'special_attack': 20, 'special_defense': 9, 'speed': 55}}, 'gym_visited': ['reddit.com', 'amazon.com']}\n",
      "{'player_name': 'Peter', 'time_played': 5.1, 'player_pokemon': {1: {'hp': 15, 'attack': 4, 'defense': 5, 'special_attack': 6, 'special_defense': 7, 'speed': 35}, 3: {'hp': 35, 'attack': 19, 'defense': 3, 'special_attack': 25, 'special_defense': 5, 'speed': 60}}, 'gym_visited': ['alcatraz', 'pacific_beach']}\n"
     ]
    }
   ],
   "source": [
    "players[1]['player_pokemon']={2:{'hp': 25,\n",
    "                                 'attack': 12,\n",
    "                                'defense': 7,\n",
    "                                'special_attack': 20,\n",
    "                                'special_defense': 9,\n",
    "                                 'speed': 55}}\n",
    "# OR we can use:\n",
    "# players[1]['player_pokemon'].update(pokedex[2])\n",
    "\n",
    "print(players[1])\n",
    "\n",
    "players[2]['player_pokemon']={1:{'hp': 15,\n",
    "                                 'attack': 4,\n",
    "                                 'defense': 5,\n",
    "                                 'special_attack': 6,\n",
    "                                 'special_defense': 7,\n",
    "                                 'speed': 35},\n",
    "                              3:{'hp': 35,\n",
    "                                 'attack': 19,\n",
    "                                 'defense': 3,\n",
    "                                 'special_attack': 25,\n",
    "                                 'special_defense': 5,\n",
    "                                 'speed': 60}}\n",
    "# players[2]['player_pokemon'].update(pokedex[1])\n",
    "# players[2]['player_pokemon'].update(pokedex[3])\n",
    "print(players[2])"
   ]
  },
  {
   "cell_type": "markdown",
   "metadata": {},
   "source": [
    "\n",
    "\n",
    "## 6. What gyms have players visited?\n",
    "\n",
    "---\n",
    "\n",
    "### 6.1\n",
    "\n",
    "Write a for-loop that:\n",
    "\n",
    "1. Iterates through the `pokemon_gyms` list of gym locations you defined before.\n",
    "2. For each gym, iterate through each player in the `players` dictionary with a second, internal for-loop.\n",
    "3. If the player has visited the gym, print out \"[player] has visited [gym location].\", filling in [player] and [gym location] with the current player's name and current gym location."
   ]
  },
  {
   "cell_type": "code",
   "execution_count": 151,
   "metadata": {},
   "outputs": [
    {
     "name": "stdout",
     "output_type": "stream",
     "text": [
      "Jason Smith has visited reddit.com.\n",
      "Jason Smith has visited amazon.com.\n",
      "Jason Smith has visited amazon.com.\n"
     ]
    }
   ],
   "source": [
    "for gym in pokemon_gyms:\n",
    "    for player in players:\n",
    "        if gym in players[player]['gym_visited']:\n",
    "            print(players[player]['player_name'] + ' has visited ' + gym +'.') "
   ]
  },
  {
   "cell_type": "code",
   "execution_count": 152,
   "metadata": {},
   "outputs": [
    {
     "name": "stdout",
     "output_type": "stream",
     "text": [
      "True\n",
      "{'player_name': 'Jason Smith', 'time_played': 0.0, 'player_pokemon': {2: {'hp': 25, 'attack': 12, 'defense': 7, 'special_attack': 20, 'special_defense': 9, 'speed': 55}}, 'gym_visited': ['reddit.com', 'amazon.com']}\n",
      "{'player_name': 'Peter', 'time_played': 5.1, 'player_pokemon': {1: {'hp': 15, 'attack': 4, 'defense': 5, 'special_attack': 6, 'special_defense': 7, 'speed': 35}, 3: {'hp': 35, 'attack': 19, 'defense': 3, 'special_attack': 25, 'special_defense': 5, 'speed': 60}}, 'gym_visited': ['alcatraz', 'pacific_beach']}\n"
     ]
    }
   ],
   "source": [
    "# for testing only\n",
    "g1 = 'reddit.com'\n",
    "players[1]['gym_visited']\n",
    "if g1 in players[1]['gym_visited']:\n",
    "    print('True')\n",
    "else:\n",
    "    print('False')\n",
    "for player in players:\n",
    "    print((players[player]))"
   ]
  },
  {
   "cell_type": "markdown",
   "metadata": {},
   "source": [
    "\n",
    "### 6.2\n",
    "\n",
    "How many times did that loop run? If you have N gyms and also N players, how many times would it run as a function of N?\n",
    "\n",
    "Can you think of a more efficient way to accomplish the same thing? \n",
    "\n",
    "(You can write your answer as Markdown text.)"
   ]
  },
  {
   "cell_type": "markdown",
   "metadata": {
    "collapsed": true
   },
   "source": [
    "Answer:\n",
    "If we have N gyms and N players, the number of times it would run is NxN\n",
    "This is because for each gym location, the entire list of players is checked if the gym location is in their 'visited_gym' list or not.\n",
    "The loop might be more efficent if we use this way:\n",
    "    - We iterate through the player list.\n",
    "    - For each player, we iterate the gym_visited list, if the gym is in the list of gym locations (pokemon_gyms), we print them out as the format \"[player] has visited [gym location].\""
   ]
  },
  {
   "cell_type": "code",
   "execution_count": 153,
   "metadata": {},
   "outputs": [
    {
     "name": "stdout",
     "output_type": "stream",
     "text": [
      "Jason Smith has visited reddit.com.\n",
      "Jason Smith has visited amazon.com.\n"
     ]
    }
   ],
   "source": [
    "for player in players:\n",
    "    for gym in players[player]['gym_visited']:\n",
    "        if gym in pokemon_gyms: \n",
    "            print(players[player]['player_name'] + ' has visited ' + gym + '.') "
   ]
  },
  {
   "cell_type": "markdown",
   "metadata": {},
   "source": [
    "\n",
    "\n",
    "## 7. Calculate player \"power\".\n",
    "\n",
    "---\n",
    "\n",
    "Define a function that will calculate a player's \"power\". Player power is defined as the sum of the base statistics all of their pokemon.\n",
    "\n",
    "Your function will:\n",
    "\n",
    "1. Accept the `players` dictionary, `pokedex` dictionary, and a player_id as arguments.\n",
    "2. For the specified player_id, look up that player's pokemon and their level(s).\n",
    "3. Find and aggregate the attack and defense values for each of the player's pokemon from the `pokedex` dictionary.\n",
    "4. Print \"[player name]'s power is [player power].\", where the player power is the sum of the base statistics for all of their pokemon.\n",
    "5. Return the player's power value.\n",
    "\n",
    "Print out the pokemon power for each of your players."
   ]
  },
  {
   "cell_type": "code",
   "execution_count": 17,
   "metadata": {},
   "outputs": [
    {
     "name": "stdout",
     "output_type": "stream",
     "text": [
      "31\n",
      "19\n"
     ]
    }
   ],
   "source": [
    "def power_cal(players, pokedex, player_id):\n",
    "    power = 0\n",
    "    for pokemon in players[player_id]['player_pokemon']: # p is an int store pokemon id in player_pokemon dict\n",
    "        power += players[player_id]['player_pokemon'][pokemon]['attack'] + players[player_id]['player_pokemon'][pokemon]['defense']\n",
    "    return power\n",
    "print(power_cal(players, pokedex, 2))\n",
    "print(power_cal(players, pokedex, 1))"
   ]
  },
  {
   "cell_type": "markdown",
   "metadata": {
    "collapsed": true
   },
   "source": [
    "\n",
    "\n",
    "## 8. Load a pokedex file containing all the pokemon\n",
    "\n",
    "---\n",
    "\n",
    "### 8.1\n",
    "\n",
    "While you were putting together the prototype code, your colleagues were preparing a dataset of Pokemon and their attributes. (This was a rush job, so they may have picked some crazy values for some...)\n",
    "\n",
    "The code below loads information from a comma separated value (csv) file. You need to parse this string into a more useable format. The format of the string is:\n",
    "\n",
    "- Rows are separated by newline characters: \\n\n",
    "- Columns are separated by commas: ,\n",
    "- All cells in the csv are double quoted. Ex: \"PokedexNumber\" is the first cell of the first row.\n",
    "\n",
    "\n",
    "Using for-loops, create a list of lists where each list within the overall list is a row of the csv/matrix, and each element in that list is a cell in that row. Additional criteria:\n",
    "\n",
    "1. Quotes are removed from each cell item.\n",
    "2. Numeric column values are converted to floats.\n",
    "3. There are some cells that are empty and have no information. For these cells put a -1 value in place.\n",
    "\n",
    "Your end result is effectively a matrix. Each list in the outer list is a row, and the *j*th elements of list together form the *j*th column, which represents a data attribute. The first three lists in your pokedex list should look like this:\n",
    "\n",
    "    ['PokedexNumber', 'Name', 'Type', 'Total', 'HP', 'Attack', 'Defense', 'SpecialAttack', 'SpecialDefense', 'Speed']\n",
    "    [1.0, 'Bulbasaur', 'GrassPoison', 318.0, 45.0, 49.0, 49.0, 65.0, 65.0, 45.0]\n",
    "    [2.0, 'Ivysaur', 'GrassPoison', 405.0, 60.0, 62.0, 63.0, 80.0, 80.0, 60.0]"
   ]
  },
  {
   "cell_type": "code",
   "execution_count": 126,
   "metadata": {},
   "outputs": [
    {
     "name": "stdout",
     "output_type": "stream",
     "text": [
      "['PokedexNumber', 'Name', 'Type', 'Total', 'HP', 'Attack', 'Defense', 'SpecialAttack', 'SpecialDefense', 'Speed']\n",
      "[1.0, 'Bulbasaur', 'GrassPoison', 318.0, 45.0, 49.0, 49.0, 65.0, 65.0, 45.0]\n",
      "[2.0, 'Ivysaur', 'GrassPoison', 405.0, 60.0, 62.0, 63.0, 80.0, 80.0, 60.0]\n"
     ]
    }
   ],
   "source": [
    "# Code to read in pokedex info\n",
    "raw_pd = ''\n",
    "pokedex_file = 'pokedex_basic.csv'\n",
    "with open(pokedex_file, 'r') as f:\n",
    "    raw_pd = f.read()\n",
    "    \n",
    "    raw_pd_list = raw_pd.split(\"\\n\") # is a list\n",
    "    pokemon_list =[]\n",
    "    for row in raw_pd_list:\n",
    "        row_list = row.split(\",\")\n",
    "        inner_list = []\n",
    "        for word in row_list:\n",
    "                w = word.replace('\\\"','')\n",
    "                if w.isdigit():\n",
    "                    w = float(w)\n",
    "                if w == '':\n",
    "                    w = -1\n",
    "                inner_list.append(w)\n",
    "        pokemon_list.append(inner_list)\n",
    "print(pokemon_list[0])\n",
    "print(pokemon_list[1])    \n",
    "print(pokemon_list[2])          \n",
    "#print(pokemon_list[0:3])    \n",
    "\n",
    "# the pokedex string is assigned to the raw_pd variable\n"
   ]
  },
  {
   "cell_type": "code",
   "execution_count": 2,
   "metadata": {},
   "outputs": [
    {
     "name": "stdout",
     "output_type": "stream",
     "text": [
      "['PokedexNumber', 'Name', 'Type', 'Total', 'HP', 'Attack', 'Defense', 'SpecialAttack', 'SpecialDefense', 'Speed']\n",
      "[1.0, 'Bulbasaur', 'GrassPoison', 318.0, 45.0, 49.0, 49.0, 65.0, 65.0, 45.0]\n",
      "[2.0, 'Ivysaur', 'GrassPoison', 405.0, 60.0, 62.0, 63.0, 80.0, 80.0, 60.0]\n"
     ]
    }
   ],
   "source": [
    "# Code to read in pokedex info\n",
    "raw_pd = ''\n",
    "pokedex_file = 'pokedex_basic.csv'\n",
    "with open(pokedex_file, 'r') as f:\n",
    "    raw_pd = f.read()\n",
    "    \n",
    "    #raw_pd_list = raw_pd.split(\"\\n\") # is a list\n",
    "    pokemon_list =[]\n",
    "    for row in raw_pd.split(\"\\n\"):\n",
    "        #row_list = row.split(\",\")\n",
    "        inner_list = []\n",
    "        for word in row.split(\",\"):\n",
    "                w = word.replace('\\\"','')\n",
    "                if w.isdigit():\n",
    "                    w = float(w)\n",
    "                if w == '':\n",
    "                    w = -1\n",
    "                inner_list.append(w)\n",
    "        pokemon_list.append(inner_list)\n",
    "\n",
    "print(pokemon_list[0])\n",
    "print(pokemon_list[1])    \n",
    "print(pokemon_list[2])"
   ]
  },
  {
   "cell_type": "markdown",
   "metadata": {},
   "source": [
    "\n",
    "\n",
    "### 8.2 Parse the raw pokedex with list comprehensions\n",
    "\n",
    "---\n",
    "\n",
    "Perform the same parsing as above, but **using only a single list comprehension** instead of for loops. You may have nested list comprehensions within the main list comprehension! The output should be exactly the same."
   ]
  },
  {
   "cell_type": "code",
   "execution_count": 127,
   "metadata": {},
   "outputs": [
    {
     "name": "stdout",
     "output_type": "stream",
     "text": [
      "['PokedexNumber', 'Name', 'Type', 'Total', 'HP', 'Attack', 'Defense', 'SpecialAttack', 'SpecialDefense', 'Speed']\n",
      "[1.0, 'Bulbasaur', 'GrassPoison', 318.0, 45.0, 49.0, 49.0, 65.0, 65.0, 45.0]\n",
      "[2.0, 'Ivysaur', 'GrassPoison', 405.0, 60.0, 62.0, 63.0, 80.0, 80.0, 60.0]\n"
     ]
    }
   ],
   "source": [
    "raw_pd_1 = ''\n",
    "pokedex_file = 'pokedex_basic.csv'\n",
    "with open(pokedex_file, 'r') as f1:\n",
    "    raw_pd_1 = f1.read()\n",
    "    poke_list = [[float(word1.replace('\\\"','')) if word1.replace('\\\"','').isdigit() else -1 if word1.replace('\\\"','') == '' else word1.replace('\\\"','') for word1 in ww.split(\",\")] for ww in raw_pd_1.split(\"\\n\")]\n",
    "print(poke_list[0])\n",
    "print(poke_list[1])\n",
    "print(poke_list[2])"
   ]
  },
  {
   "cell_type": "code",
   "execution_count": 128,
   "metadata": {},
   "outputs": [
    {
     "name": "stdout",
     "output_type": "stream",
     "text": [
      "\"1\",\"Bulbasaur\",\"GrassPoison\",\"318\",\"45\",\"\"\n",
      "[1.0, 'Bulbasaur', 'GrassPoison', 318.0, 45.0, -1]\n"
     ]
    }
   ],
   "source": [
    "# for testing\n",
    "ww = '\"1\",\"Bulbasaur\",\"GrassPoison\",\"318\",\"45\",\"\"'\n",
    "print(ww)\n",
    "\n",
    "w_test = [float(word1.replace('\\\"','')) if word1.replace('\\\"','').isdigit() else -1 if word1.replace('\\\"','') == '' else word1.replace('\\\"','') for word1 in ww.split(\",\")]\n",
    "\n",
    "print(w_test)"
   ]
  },
  {
   "cell_type": "markdown",
   "metadata": {},
   "source": [
    "\n",
    "\n",
    "## 9. Write a function to generate the full pokedex\n",
    "\n",
    "---\n",
    "\n",
    "Write a function that recreates the pokedex you made before, but with the data read in from the full pokemon file. The `PokedexNumber` should be used as the `pokemon_id` key values for the dictionary of pokemon.\n",
    "\n",
    "Your function should:\n",
    "\n",
    "1. Take the parsed pokedex information you created above as an argument.\n",
    "2. Return a dictionary in the same format as your original pokedex you created before containing the information from the parsed full pokedex file.\n",
    "\n",
    "To test the function, print out the pokemon with id = 100."
   ]
  },
  {
   "cell_type": "code",
   "execution_count": 147,
   "metadata": {
    "scrolled": true
   },
   "outputs": [
    {
     "name": "stdout",
     "output_type": "stream",
     "text": [
      "{'Name': 'Voltorb', 'Type': 'Electric', 'HP': 40.0, 'Attack': 30.0, 'Defense': 50.0, 'SpecialAttack': 55.0, 'SpecialDefense': 55.0, 'Speed': 100.0}\n"
     ]
    }
   ],
   "source": [
    "def generate_pokedex(pokemon_list_input):\n",
    "    pokedex = {}\n",
    "    for i in range(1,len(pokemon_list_input)):\n",
    "        pokedex[pokemon_list[i][0]] = {'Name': pokemon_list_input[i][1],\n",
    "                                      'Type' : pokemon_list_input[i][2],\n",
    "                                      'HP': pokemon_list_input[i][4],\n",
    "                                      'Attack': pokemon_list_input[i][5],\n",
    "                                      'Defense': pokemon_list_input[i][6],\n",
    "                                      'SpecialAttack': pokemon_list_input[i][7],\n",
    "                                      'SpecialDefense': pokemon_list_input[i][8],\n",
    "                                      'Speed': pokemon_list_input[i][9]}\n",
    "    return pokedex\n",
    "\n",
    "pokedex = generate_pokedex(pokemon_list)\n",
    "print(pokedex[100])\n",
    "#print(pokedex)       "
   ]
  },
  {
   "cell_type": "markdown",
   "metadata": {},
   "source": [
    "\n",
    "\n",
    "## 10. Write a function to generate a \"filtered\" pokedex\n",
    "---\n",
    "Your function should:\n",
    "1. Take the parsed pokedex information you created above as an argument.\n",
    "1. Take a dictionary as a parameter with keys matching the features of the Pokedex, filtering by exact match for string type values, and/or filter continuous variables specified value that is greater than or equal to the dictionary key parameter.\n",
    "1. Return multiple elements from the Pokedex\n",
    "\n",
    "Example:\n",
    "\n",
    "```python\n",
    "\n",
    "# Only filter based on parameters passed\n",
    "filter_options = {\n",
    "    'Attack':   25,\n",
    "    'Defense':  30,\n",
    "    'Type':     'Electric'\n",
    "}\n",
    "\n",
    "# Return records with attack >= 24, defense >= 30, and type == \"Electric\"\n",
    "# Also anticipate that other paramters can also be passed such as \"SpecialAttack\", \"Speed\", etc.\n",
    "filtered_pokedex(pokedex_data, filter=filter_options)\n",
    "\n",
    "# Example output:\n",
    "# [{'Attack': 30.0,\n",
    "#  'Defense': 50.0,\n",
    "#  'HP': 40.0,\n",
    "#  'Name': 'Voltorb',\n",
    "#  'SpecialAttack': 55.0,\n",
    "#  'SpecialDefense': 55.0,\n",
    "#  'Speed': 100.0,\n",
    "#  'Total': 330.0,\n",
    "#  'Type': 'Electric'},\n",
    "#  {'Attack': 30.0,\n",
    "#  'Defense': 33.0,\n",
    "#  'HP': 32.0,\n",
    "#  'Name': 'Pikachu',\n",
    "#  'SpecialAttack': 55.0,\n",
    "#  'SpecialDefense': 55.0,\n",
    "#  'Speed': 100.0,\n",
    "#  'Total': 330.0,\n",
    "#  'Type': 'Electric'},\n",
    "#  ... etc\n",
    "#  ]\n",
    "\n",
    "```\n",
    "\n"
   ]
  },
  {
   "cell_type": "code",
   "execution_count": 142,
   "metadata": {
    "collapsed": true
   },
   "outputs": [],
   "source": [
    "# assuming that the function take 2 arguments: an podedex dictionary and a key parameter dictionary\n",
    "filter_options = {\n",
    "    'Attack':   25,\n",
    "    'Defense':  30,\n",
    "    'Type':     'Electric'\n",
    "}\n",
    "#key = list(filter_options.keys())\n",
    "#print(type(key))\n",
    "def compared_2list(keylist, list1):\n",
    "    flags = []\n",
    "    for i in range(0, len(keylist)):\n",
    "        if type(keylist[i]) and type(list1[i]) is float:\n",
    "            flags.append(keylist[i] <= list1[i])\n",
    "        else:\n",
    "            flags.append(keylist[i].lower() == list1[i].lower())\n",
    "    return not any(x==False for x in flags)\n",
    "\n",
    "def filtered_pokedex(pokedex_dict, filter = filter_options):\n",
    "    filtered_key = list(filter_options.keys()) # put all the keys of the filter_options dict into a list\n",
    "    filtered_values = list(filter_options.values()) # put all the values of the filter_options dict into a list\n",
    "    filtered_result = []\n",
    "    for i in range(1,len(pokedex_dict)): # iterate throught pokedex\n",
    "        attributes_to_check = []\n",
    "        #create a list containing the values of the key attributes of the pokemon\n",
    "        for j in range(0,len(filtered_key)):\n",
    "            attributes_to_check.append(pokedex_dict[i][filtered_key[j]])\n",
    "        if compared_2list(filtered_values,attributes_to_check):\n",
    "            filtered_result.append(pokedex[i])\n",
    "    return filtered_result"
   ]
  },
  {
   "cell_type": "code",
   "execution_count": 143,
   "metadata": {},
   "outputs": [
    {
     "name": "stdout",
     "output_type": "stream",
     "text": [
      "[{'Name': 'Pikachu', 'Type': 'Electric', 'HP': 35.0, 'Attack': 55.0, 'Defense': 40.0, 'SpecialAttack': 50.0, 'SpecialDefense': 50.0, 'Speed': 90.0}, {'Name': 'Raichu', 'Type': 'Electric', 'HP': 60.0, 'Attack': 90.0, 'Defense': 55.0, 'SpecialAttack': 90.0, 'SpecialDefense': 80.0, 'Speed': 110.0}, {'Name': 'Voltorb', 'Type': 'Electric', 'HP': 40.0, 'Attack': 30.0, 'Defense': 50.0, 'SpecialAttack': 55.0, 'SpecialDefense': 55.0, 'Speed': 100.0}, {'Name': 'Electrode', 'Type': 'Electric', 'HP': 60.0, 'Attack': 50.0, 'Defense': 70.0, 'SpecialAttack': 80.0, 'SpecialDefense': 80.0, 'Speed': 140.0}, {'Name': 'Electabuzz', 'Type': 'Electric', 'HP': 65.0, 'Attack': 83.0, 'Defense': 57.0, 'SpecialAttack': 95.0, 'SpecialDefense': 85.0, 'Speed': 105.0}, {'Name': 'Jolteon', 'Type': 'Electric', 'HP': 65.0, 'Attack': 65.0, 'Defense': 60.0, 'SpecialAttack': 110.0, 'SpecialDefense': 95.0, 'Speed': 130.0}, {'Name': 'Mareep', 'Type': 'Electric', 'HP': 55.0, 'Attack': 40.0, 'Defense': 40.0, 'SpecialAttack': 65.0, 'SpecialDefense': 45.0, 'Speed': 35.0}, {'Name': 'Flaaffy', 'Type': 'Electric', 'HP': 70.0, 'Attack': 55.0, 'Defense': 55.0, 'SpecialAttack': 80.0, 'SpecialDefense': 60.0, 'Speed': 45.0}, {'Name': 'Elekid', 'Type': 'Electric', 'HP': 45.0, 'Attack': 63.0, 'Defense': 37.0, 'SpecialAttack': 65.0, 'SpecialDefense': 55.0, 'Speed': 95.0}, {'Name': 'Raikou', 'Type': 'Electric', 'HP': 90.0, 'Attack': 85.0, 'Defense': 75.0, 'SpecialAttack': 115.0, 'SpecialDefense': 100.0, 'Speed': 115.0}, {'Name': 'Electrike', 'Type': 'Electric', 'HP': 40.0, 'Attack': 45.0, 'Defense': 40.0, 'SpecialAttack': 65.0, 'SpecialDefense': 40.0, 'Speed': 65.0}, {'Name': 'ManectricMega Manectric', 'Type': 'Electric', 'HP': 70.0, 'Attack': 75.0, 'Defense': 80.0, 'SpecialAttack': 135.0, 'SpecialDefense': 80.0, 'Speed': 135.0}, {'Name': 'Plusle', 'Type': 'Electric', 'HP': 60.0, 'Attack': 50.0, 'Defense': 40.0, 'SpecialAttack': 85.0, 'SpecialDefense': 75.0, 'Speed': 95.0}, {'Name': 'Minun', 'Type': 'Electric', 'HP': 60.0, 'Attack': 40.0, 'Defense': 50.0, 'SpecialAttack': 75.0, 'SpecialDefense': 85.0, 'Speed': 95.0}, {'Name': 'Shinx', 'Type': 'Electric', 'HP': 45.0, 'Attack': 65.0, 'Defense': 34.0, 'SpecialAttack': 40.0, 'SpecialDefense': 34.0, 'Speed': 45.0}, {'Name': 'Luxio', 'Type': 'Electric', 'HP': 60.0, 'Attack': 85.0, 'Defense': 49.0, 'SpecialAttack': 60.0, 'SpecialDefense': 49.0, 'Speed': 60.0}, {'Name': 'Luxray', 'Type': 'Electric', 'HP': 80.0, 'Attack': 120.0, 'Defense': 79.0, 'SpecialAttack': 95.0, 'SpecialDefense': 79.0, 'Speed': 70.0}, {'Name': 'Pachirisu', 'Type': 'Electric', 'HP': 60.0, 'Attack': 45.0, 'Defense': 70.0, 'SpecialAttack': 45.0, 'SpecialDefense': 90.0, 'Speed': 95.0}, {'Name': 'Electivire', 'Type': 'Electric', 'HP': 75.0, 'Attack': 123.0, 'Defense': 67.0, 'SpecialAttack': 95.0, 'SpecialDefense': 85.0, 'Speed': 95.0}, {'Name': 'Blitzle', 'Type': 'Electric', 'HP': 45.0, 'Attack': 60.0, 'Defense': 32.0, 'SpecialAttack': 50.0, 'SpecialDefense': 32.0, 'Speed': 76.0}, {'Name': 'Zebstrika', 'Type': 'Electric', 'HP': 75.0, 'Attack': 100.0, 'Defense': 63.0, 'SpecialAttack': 80.0, 'SpecialDefense': 63.0, 'Speed': 116.0}, {'Name': 'Tynamo', 'Type': 'Electric', 'HP': 35.0, 'Attack': 55.0, 'Defense': 40.0, 'SpecialAttack': 45.0, 'SpecialDefense': 40.0, 'Speed': 60.0}, {'Name': 'Eelektrik', 'Type': 'Electric', 'HP': 65.0, 'Attack': 85.0, 'Defense': 70.0, 'SpecialAttack': 75.0, 'SpecialDefense': 70.0, 'Speed': 40.0}, {'Name': 'Eelektross', 'Type': 'Electric', 'HP': 85.0, 'Attack': 115.0, 'Defense': 80.0, 'SpecialAttack': 105.0, 'SpecialDefense': 80.0, 'Speed': 50.0}]\n"
     ]
    }
   ],
   "source": [
    "test1 = filtered_pokedex(pokedex,filter = filter_options)\n",
    "print(test1)"
   ]
  },
  {
   "cell_type": "code",
   "execution_count": 118,
   "metadata": {},
   "outputs": [
    {
     "data": {
      "text/plain": [
       "False"
      ]
     },
     "execution_count": 118,
     "metadata": {},
     "output_type": "execute_result"
    }
   ],
   "source": [
    "# for testing the function only\n",
    "def compared_2list(keylist, list1):\n",
    "    flags = []\n",
    "    for i in range(0, len(keylist)):\n",
    "        if type(keylist[i]) and type(list1[i]) is float:\n",
    "            flags.append(keylist[i] <= list1[i])\n",
    "        else:\n",
    "            flags.append(keylist[i].lower() == list1[i].lower())\n",
    "    return not any(x==False for x in flags)\n",
    "          \n",
    "a = [3.0,5.5,'ab']\n",
    "b = [3.0,5.5,'cb']\n",
    "compared_2list(a,b)"
   ]
  },
  {
   "cell_type": "markdown",
   "metadata": {
    "collapsed": true
   },
   "source": [
    "\n",
    "## 9. Descriptive statistics on the prototype pokedex\n",
    "\n",
    "\n",
    "### 9.1\n",
    "\n",
    "What is the population mean and standard deviation of the \"Total\" attribute for all characters in the Pokedex?\n",
    "\n"
   ]
  },
  {
   "cell_type": "code",
   "execution_count": 40,
   "metadata": {},
   "outputs": [
    {
     "name": "stdout",
     "output_type": "stream",
     "text": [
      "435.1275\n",
      "119.96202000529168\n"
     ]
    }
   ],
   "source": [
    "import numpy as np\n",
    "total = []\n",
    "for i in range(1,len(poke_list)):\n",
    "    total.append(poke_list[i][3])\n",
    "#print(total)\n",
    "print(np.mean(total))\n",
    "print(np.std(total))"
   ]
  },
  {
   "cell_type": "markdown",
   "metadata": {},
   "source": [
    "\n",
    "### 9.2\n",
    "\n",
    "The game is no fun if the characters are wildly unbalanced! Are any characters \"overpowered\", which we'll define as having a \"Total\" more than three standard deviations from the population mean?"
   ]
  },
  {
   "cell_type": "code",
   "execution_count": 50,
   "metadata": {},
   "outputs": [
    {
     "name": "stdout",
     "output_type": "stream",
     "text": [
      "True\n"
     ]
    }
   ],
   "source": [
    "over_powered_total = np.mean(total) + (np.std(total) * 3)\n",
    "#print(total > over_powered_total)\n",
    "print(any(x > over_powered_total for x in total))"
   ]
  },
  {
   "cell_type": "code",
   "execution_count": 46,
   "metadata": {},
   "outputs": [
    {
     "name": "stdout",
     "output_type": "stream",
     "text": [
      "True\n"
     ]
    }
   ],
   "source": [
    "# checking by using a function\n",
    "def is_overPowered(total_list, value):\n",
    "      for x in total_list:\n",
    "        if x > value:\n",
    "            return True\n",
    "            break\n",
    "        else:\n",
    "            continue\n",
    "print(is_overPowered(total, over_powered_total))"
   ]
  },
  {
   "cell_type": "markdown",
   "metadata": {},
   "source": [
    "\n",
    "\n",
    "## 10. Calibrate the frequency of Pokemon\n",
    "\n",
    "The design team wants you to make the powerful Pokemon rare, and the weaklings more common. How would you set the probability $p_i$ of finding Pokemon *i* each time a player visits a gym?\n",
    "\n",
    "Write a function that takes in a Pokedex number and returns a value $p_i$ for that character.\n",
    "\n",
    "Hint: there are many ways you could do this. What do _you_ think makes sense? Start with simplifying assumptions: for example, you could assume that the probabilities of encountering any two Pokemon on one visit to a gym are independent of each other."
   ]
  },
  {
   "cell_type": "code",
   "execution_count": 145,
   "metadata": {},
   "outputs": [
    {
     "name": "stdout",
     "output_type": "stream",
     "text": [
      "0.0031446540880503146\n"
     ]
    }
   ],
   "source": [
    "# Assuming the power of a pokemon is the sum of its stats (i.e. HP, attack, defense, special attack, special defense and speed) \n",
    "# I assign the probability of a pokemon based on its power, i.e. the more the power is , the more the pokemon rare\n",
    "def probability_assign(poke_number):\n",
    "    pokemon_power = pokedex[poke_number]['HP'] + pokedex[poke_number]['Attack'] + pokedex[poke_number]['Defense'] + pokedex[poke_number]['SpecialAttack'] + pokedex[poke_number]['SpecialDefense'] + pokedex[poke_number]['Speed']    \n",
    "    prob = 1/pokemon_power \n",
    "    return prob\n",
    "\n",
    "print(probability_assign(1))"
   ]
  },
  {
   "cell_type": "code",
   "execution_count": null,
   "metadata": {
    "collapsed": true
   },
   "outputs": [],
   "source": []
  }
 ],
 "metadata": {
  "anaconda-cloud": {},
  "kernelspec": {
   "display_name": "Python 3",
   "language": "python",
   "name": "python3"
  },
  "language_info": {
   "codemirror_mode": {
    "name": "ipython",
    "version": 3
   },
   "file_extension": ".py",
   "mimetype": "text/x-python",
   "name": "python",
   "nbconvert_exporter": "python",
   "pygments_lexer": "ipython3",
   "version": "3.6.5"
  }
 },
 "nbformat": 4,
 "nbformat_minor": 1
}
